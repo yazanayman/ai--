{
 "cells": [
  {
   "cell_type": "code",
   "execution_count": 1,
   "metadata": {
    "collapsed": true
   },
   "outputs": [],
   "source": [
    "import numpy as np\n",
    "import matplotlib.pyplot as plt\n",
    "%matplotlib inline"
   ]
  },
  {
   "cell_type": "code",
   "execution_count": 2,
   "metadata": {
    "collapsed": true
   },
   "outputs": [],
   "source": [
    "def Trapezoidal_MF(x):\n",
    "    a=150\n",
    "    b=150\n",
    "    c=160\n",
    "    d=170\n",
    "    \n",
    "    if(x<=a):\n",
    "        return 0\n",
    "    if(x>=a and x<=b):\n",
    "        return (x-a)/(b-a)\n",
    "\n",
    "    if(x>=b and x<=c):\n",
    "        return  1\n",
    "    if(x>=c and x<=d):\n",
    "        return (d-x)/(d-c)\n",
    "    if(d<=x):\n",
    "        return 0"
   ]
  },
  {
   "cell_type": "code",
   "execution_count": 3,
   "metadata": {
    "collapsed": true
   },
   "outputs": [],
   "source": [
    "def Trapezoidal_MF2(x):\n",
    "    a=180\n",
    "    b=190\n",
    "    c=210\n",
    "    d=210\n",
    "    \n",
    "    if(x<=a):\n",
    "        return 0\n",
    "    if(x>=a and x<=b):\n",
    "        return (x-a)/(b-a)\n",
    "\n",
    "    if(x>=b and x<=c):\n",
    "        return  1\n",
    "    if(x>=c and x<=d):\n",
    "        return (d-x)/(d-c)\n",
    "    if(d<=x):\n",
    "        return 0"
   ]
  },
  {
   "cell_type": "code",
   "execution_count": 4,
   "metadata": {
    "collapsed": true
   },
   "outputs": [],
   "source": [
    "def Triangular_MF(x):\n",
    "    a=165\n",
    "    b=175\n",
    "    c=185\n",
    "    \n",
    "    if(x<=a):\n",
    "        return 0\n",
    "    if(x>=a and x<=b):\n",
    "        return (x-a)/(b-a)\n",
    "\n",
    "    if(x>=b and x<=c):\n",
    "        return (c-x)/(c-b)\n",
    "\n",
    "    if(c<=x):\n",
    "        return 0"
   ]
  },
  {
   "cell_type": "code",
   "execution_count": 5,
   "metadata": {
    "collapsed": true
   },
   "outputs": [],
   "source": [
    "x_short=np.arange(150,171)\n",
    "x_average=np.arange(165,186)\n",
    "x_tall=np.arange(180,211)\n",
    "\n",
    "y_short=[Trapezoidal_MF(i)  for i in x_short]\n",
    "y_average=[Triangular_MF(i)  for i in x_average]\n",
    "y_tall=[Trapezoidal_MF2(i)  for i in x_tall]"
   ]
  },
  {
   "cell_type": "code",
   "execution_count": null,
   "metadata": {},
   "outputs": [
    {
     "data": {
      "image/png": "[encoded data removed]",
      "text/plain": [
       "<matplotlib.figure.Figure at 0x10cdbe9b0>"
      ]
     },
     "metadata": {},
     "output_type": "display_data"
    }
   ],
   "source": [
    "_=plt.plot(x_short, y_short , linestyle='-',color=\"red\")\n",
    "\n",
    "_=plt.plot(x_average, y_average , linestyle='-',color=\"green\")\n",
    "\n",
    "_=plt.plot(x_tall, y_tall , linestyle='-',color=\"blue\")\n",
    "\n",
    "\n",
    "_ = plt.legend(('Short', 'Average', 'Tall'), loc='lower right')\n",
    "_ = plt.xlabel('Height (cm)')\n",
    "_ = plt.ylabel('Degree of Membership')\n",
    "_ = plt.title(\"Fuzzy Sets\")\n",
    "_ = plt.margins(0.01)\n",
    "\n",
    "plt.show()"
   ]
  },
  {
   "cell_type": "code",
   "execution_count": null,
   "metadata": {},
   "outputs": [],
   "source": [
    "height=int(input(\"Enter Your Height:\"))\n",
    "print(\"Short: \", Trapezoidal_MF(height))\n",
    "print(\"Average: \", Triangular_MF(height))\n",
    "print(\"Tall: \", Trapezoidal_MF2(height))"
   ]
  },
  {
   "cell_type": "code",
   "execution_count": null,
   "metadata": {
    "collapsed": true
   },
   "outputs": [],
   "source": []
  },
  {
   "cell_type": "code",
   "execution_count": null,
   "metadata": {
    "collapsed": true
   },
   "outputs": [],
   "source": []
  },
  {
   "cell_type": "code",
   "execution_count": null,
   "metadata": {
    "collapsed": true
   },
   "outputs": [],
   "source": []
  }
 ],
 "metadata": {
  "kernelspec": {
   "display_name": "Python 3",
   "language": "python",
   "name": "python3"
  },
  "language_info": {
   "codemirror_mode": {
    "name": "ipython",
    "version": 3
   },
   "file_extension": ".py",
   "mimetype": "text/x-python",
   "name": "python",
   "nbconvert_exporter": "python",
   "pygments_lexer": "ipython3",
   "version": "3.6.3"
  }
 },
 "nbformat": 4,
 "nbformat_minor": 2
}
