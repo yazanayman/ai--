{
 "cells": [
  {
   "cell_type": "code",
   "execution_count": 1,
   "metadata": {
    "collapsed": true
   },
   "outputs": [],
   "source": [
    "import numpy as np\n",
    "import pandas as pd\n",
    "import matplotlib.pyplot as plt\n",
    "%matplotlib inline"
   ]
  },
  {
   "cell_type": "code",
   "execution_count": 2,
   "metadata": {},
   "outputs": [
    {
     "data": {
      "text/plain": [
       "Illiterate             8.5\n",
       "Can Read and Write    11.5\n",
       "Elementary            23.5\n",
       "Preparatory           29.2\n",
       "Secondary             15.1\n",
       "Associate Diploma      6.1\n",
       "Bachelor and above     6.1\n",
       "dtype: float64"
      ]
     },
     "execution_count": 2,
     "metadata": {},
     "output_type": "execute_result"
    }
   ],
   "source": [
    "male1995 = pd.Series([8.5,11.5,23.5,29.2,15.1,6.1,6.1],\n",
    "                    index=['Illiterate','Can Read and Write','Elementary','Preparatory','Secondary',\n",
    "                           'Associate Diploma','Bachelor and above'])\n",
    "male1995"
   ]
  },
  {
   "cell_type": "code",
   "execution_count": 3,
   "metadata": {},
   "outputs": [
    {
     "data": {
      "text/plain": [
       "Associate Diploma      4.8\n",
       "Bachelor and above     2.4\n",
       "Can Read and Write    10.1\n",
       "Elementary            21.3\n",
       "Illiterate            23.0\n",
       "Preparatory           25.9\n",
       "Secondary             12.5\n",
       "dtype: float64"
      ]
     },
     "execution_count": 3,
     "metadata": {},
     "output_type": "execute_result"
    }
   ],
   "source": [
    "female1995= pd.Series({'Illiterate': 23.0,'Can Read and Write': 10.1,'Elementary': 21.3,\n",
    "                       'Preparatory': 25.9,'Secondary': 12.5,'Associate Diploma': 4.8,'Bachelor and above': 2.4})\n",
    "female1995"
   ]
  },
  {
   "cell_type": "code",
   "execution_count": 4,
   "metadata": {},
   "outputs": [
    {
     "data": {
      "text/plain": [
       "Associate Diploma      5.5\n",
       "Bachelor and above     4.3\n",
       "Can Read and Write    10.8\n",
       "Elementary            22.4\n",
       "Illiterate            15.7\n",
       "Preparatory           27.5\n",
       "Secondary             13.8\n",
       "dtype: float64"
      ]
     },
     "execution_count": 4,
     "metadata": {},
     "output_type": "execute_result"
    }
   ],
   "source": [
    "bothsexes1995= pd.Series({'Illiterate': 15.7,'Can Read and Write': 10.8,'Elementary': 22.4,\n",
    "                          'Preparatory': 27.5,'Secondary': 13.8,'Associate Diploma': 5.5,'Bachelor and above': 4.3})\n",
    "\n",
    "bothsexes1995"
   ]
  },
  {
   "cell_type": "code",
   "execution_count": 5,
   "metadata": {},
   "outputs": [
    {
     "data": {
      "text/html": [
       "<div>\n",
       "<style>\n",
       "    .dataframe thead tr:only-child th {\n",
       "        text-align: right;\n",
       "    }\n",
       "\n",
       "    .dataframe thead th {\n",
       "        text-align: left;\n",
       "    }\n",
       "\n",
       "    .dataframe tbody tr th {\n",
       "        vertical-align: top;\n",
       "    }\n",
       "</style>\n",
       "<table border=\"1\" class=\"dataframe\">\n",
       "  <thead>\n",
       "    <tr style=\"text-align: right;\">\n",
       "      <th></th>\n",
       "      <th>bothsexes</th>\n",
       "      <th>female</th>\n",
       "      <th>male</th>\n",
       "    </tr>\n",
       "  </thead>\n",
       "  <tbody>\n",
       "    <tr>\n",
       "      <th>Associate Diploma</th>\n",
       "      <td>5.5</td>\n",
       "      <td>4.8</td>\n",
       "      <td>6.1</td>\n",
       "    </tr>\n",
       "    <tr>\n",
       "      <th>Bachelor and above</th>\n",
       "      <td>4.3</td>\n",
       "      <td>2.4</td>\n",
       "      <td>6.1</td>\n",
       "    </tr>\n",
       "    <tr>\n",
       "      <th>Can Read and Write</th>\n",
       "      <td>10.8</td>\n",
       "      <td>10.1</td>\n",
       "      <td>11.5</td>\n",
       "    </tr>\n",
       "    <tr>\n",
       "      <th>Elementary</th>\n",
       "      <td>22.4</td>\n",
       "      <td>21.3</td>\n",
       "      <td>23.5</td>\n",
       "    </tr>\n",
       "    <tr>\n",
       "      <th>Illiterate</th>\n",
       "      <td>15.7</td>\n",
       "      <td>23.0</td>\n",
       "      <td>8.5</td>\n",
       "    </tr>\n",
       "    <tr>\n",
       "      <th>Preparatory</th>\n",
       "      <td>27.5</td>\n",
       "      <td>25.9</td>\n",
       "      <td>29.2</td>\n",
       "    </tr>\n",
       "    <tr>\n",
       "      <th>Secondary</th>\n",
       "      <td>13.8</td>\n",
       "      <td>12.5</td>\n",
       "      <td>15.1</td>\n",
       "    </tr>\n",
       "  </tbody>\n",
       "</table>\n",
       "</div>"
      ],
      "text/plain": [
       "                    bothsexes  female  male\n",
       "Associate Diploma         5.5     4.8   6.1\n",
       "Bachelor and above        4.3     2.4   6.1\n",
       "Can Read and Write       10.8    10.1  11.5\n",
       "Elementary               22.4    21.3  23.5\n",
       "Illiterate               15.7    23.0   8.5\n",
       "Preparatory              27.5    25.9  29.2\n",
       "Secondary                13.8    12.5  15.1"
      ]
     },
     "execution_count": 5,
     "metadata": {},
     "output_type": "execute_result"
    }
   ],
   "source": [
    "educationalattainment = pd.DataFrame({'male': male1995,'female': female1995, 'bothsexes' : bothsexes1995})\n",
    "educationalattainment"
   ]
  },
  {
   "cell_type": "code",
   "execution_count": 6,
   "metadata": {},
   "outputs": [
    {
     "data": {
      "image/png": "[encoded data removed]",
      "text/plain": [
       "<matplotlib.figure.Figure at 0x1109f8d68>"
      ]
     },
     "metadata": {},
     "output_type": "display_data"
    }
   ],
   "source": [
    "objects = ('College', 'HighSchool', 'beyound college')\n",
    "pop=[50,20,15]\n",
    "n=len(objects)\n",
    "y_pos = np.arange(n)\n",
    "plt.bar(y_pos, pop, align='center', alpha=0.5)\n",
    "plt.xticks(y_pos, objects)\n",
    "plt.ylabel('pop')\n",
    "plt.title('Education')\n",
    " \n",
    "plt.show()"
   ]
  },
  {
   "cell_type": "code",
   "execution_count": null,
   "metadata": {
    "collapsed": true
   },
   "outputs": [],
   "source": []
  },
  {
   "cell_type": "code",
   "execution_count": null,
   "metadata": {
    "collapsed": true
   },
   "outputs": [],
   "source": []
  }
 ],
 "metadata": {
  "kernelspec": {
   "display_name": "Python 3",
   "language": "python",
   "name": "python3"
  },
  "language_info": {
   "codemirror_mode": {
    "name": "ipython",
    "version": 3
   },
   "file_extension": ".py",
   "mimetype": "text/x-python",
   "name": "python",
   "nbconvert_exporter": "python",
   "pygments_lexer": "ipython3",
   "version": "3.6.3"
  }
 },
 "nbformat": 4,
 "nbformat_minor": 2
}
